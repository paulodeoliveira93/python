{
 "cells": [
  {
   "cell_type": "raw",
   "metadata": {},
   "source": [
    "Texto: lira@gmail.com\n",
    "\n",
    "-14 -13 -12 -11 -10 -9 -8 -7 -6 -5 -4 -3 -2 -1\n",
    "  l   i   r   a   @  g  m  a  i  l  .  c  o  m\n",
    "  0   1   2   3   4  5  6  7  8  9 10 11 12 13\n",
    "  \n",
    "Para pegar um texto de trás para frente: texto[índice] -> onde índice é negativo\n",
    "Para pegar o pedaço de um texto use : (dois pontos). texto[:indice] ou texto[indice:] ou ainda texto[indice:indice]"
   ]
  },
  {
   "cell_type": "code",
   "execution_count": 5,
   "metadata": {},
   "outputs": [
    {
     "name": "stdout",
     "output_type": "stream",
     "text": [
      "@gmail.com\n"
     ]
    }
   ],
   "source": [
    "email = 'lira@gmail.com'\n",
    "nome = 'João Paulo Lira'\n",
    "print (email[4:14])"
   ]
  },
  {
   "cell_type": "markdown",
   "metadata": {},
   "source": [
    "Exercícios para Fixação:\n",
    "Basta completar os prints de forma correta"
   ]
  },
  {
   "cell_type": "code",
   "execution_count": 9,
   "metadata": {},
   "outputs": [
    {
     "name": "stdout",
     "output_type": "stream",
     "text": [
      "Tamanho do e-mail 14 caracteres\n",
      "Primeiro Caractere l\n",
      "Último Caractere m\n",
      "Servidor do email @gmail.com\n"
     ]
    }
   ],
   "source": [
    "print('Tamanho do e-mail ' + str(len(email)) + ' caracteres')\n",
    "print('Primeiro Caractere ' + email[0])\n",
    "print('Último Caractere ' + email[13])\n",
    "print('Servidor do email ' + email[4:])"
   ]
  }
 ],
 "metadata": {
  "kernelspec": {
   "display_name": "Python 3",
   "language": "python",
   "name": "python3"
  },
  "language_info": {
   "codemirror_mode": {
    "name": "ipython",
    "version": 3
   },
   "file_extension": ".py",
   "mimetype": "text/x-python",
   "name": "python",
   "nbconvert_exporter": "python",
   "pygments_lexer": "ipython3",
   "version": "3.11.1"
  },
  "vscode": {
   "interpreter": {
    "hash": "1bdc4d4e3c8d5d24903baf837f35a68267468051fc229167f6381e70d8fe2045"
   }
  }
 },
 "nbformat": 4,
 "nbformat_minor": 4
}
