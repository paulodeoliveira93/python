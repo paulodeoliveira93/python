{
 "cells": [
  {
   "cell_type": "markdown",
   "id": "bb0f9514",
   "metadata": {},
   "source": [
    "# Lista de Estrutura Sequencial"
   ]
  },
  {
   "attachments": {},
   "cell_type": "markdown",
   "id": "4e7a8c30",
   "metadata": {},
   "source": [
    "#### 1. Faça um Programa que mostre a mensagem (print) \"Hello Word\" na tela."
   ]
  },
  {
   "cell_type": "code",
   "execution_count": 1,
   "id": "883bfe85",
   "metadata": {},
   "outputs": [
    {
     "name": "stdout",
     "output_type": "stream",
     "text": [
      "Hello Word\n"
     ]
    }
   ],
   "source": [
    "home = ('Hello Word')\n",
    "print (home)"
   ]
  },
  {
   "cell_type": "markdown",
   "id": "71d6d6a2",
   "metadata": {},
   "source": [
    "#### 2. Faça um Programa que peça um número (input) e então mostre a mensagem: \"O número informado foi [número].\""
   ]
  },
  {
   "cell_type": "code",
   "execution_count": 3,
   "id": "30cfffcf",
   "metadata": {},
   "outputs": [
    {
     "name": "stdout",
     "output_type": "stream",
     "text": [
      "O numero informado foi 25\n"
     ]
    }
   ],
   "source": [
    "numero = int(input())\n",
    "print(f'O numero informado foi {numero}')"
   ]
  },
  {
   "cell_type": "markdown",
   "id": "c5e43160",
   "metadata": {},
   "source": [
    "#### 3. Faça um Programa que peça dois números e imprima a soma."
   ]
  },
  {
   "cell_type": "code",
   "execution_count": 4,
   "id": "b0e79590",
   "metadata": {},
   "outputs": [
    {
     "name": "stdout",
     "output_type": "stream",
     "text": [
      "50\n"
     ]
    }
   ],
   "source": [
    "alfa = int(input())\n",
    "beta = int(input())\n",
    "print (alfa + beta)"
   ]
  },
  {
   "cell_type": "markdown",
   "id": "17826987",
   "metadata": {},
   "source": [
    "#### 4. Faça um Programa que peça as 4 notas bimestrais de um aluno e mostre a média de todas as notas."
   ]
  },
  {
   "cell_type": "code",
   "execution_count": 5,
   "id": "23b66762",
   "metadata": {},
   "outputs": [
    {
     "name": "stdout",
     "output_type": "stream",
     "text": [
      "7.75\n"
     ]
    }
   ],
   "source": [
    "bimestre_one = 8\n",
    "bimestre_two = 7\n",
    "bimestre_tree = 9\n",
    "bimestre_four = 7\n",
    "\n",
    "media = (bimestre_one + bimestre_two + bimestre_tree + bimestre_four) / 4\n",
    "print (media)"
   ]
  },
  {
   "cell_type": "markdown",
   "id": "62d461c5",
   "metadata": {},
   "source": [
    "#### 5. Faça um Programa que converta metros para centímetros. Você pode pedir o comprimento em metros para o usuário (input)."
   ]
  },
  {
   "cell_type": "code",
   "execution_count": 6,
   "id": "d642f1ba",
   "metadata": {},
   "outputs": [
    {
     "name": "stdout",
     "output_type": "stream",
     "text": [
      "250\n"
     ]
    }
   ],
   "source": [
    "metros = int(input('Digite o valor em metros'))\n",
    "centimetros = metros * 10\n",
    "print(centimetros)"
   ]
  },
  {
   "cell_type": "markdown",
   "id": "f1311697",
   "metadata": {},
   "source": [
    "#### 7. Faça um Programa que calcule a área de uma sala de um apartamento. Para isso, o seu programa precisa pedir a largura da sala, o comprimento da sala e imprimir a área em m² da sala."
   ]
  },
  {
   "cell_type": "code",
   "execution_count": 7,
   "id": "612ea24b",
   "metadata": {},
   "outputs": [
    {
     "name": "stdout",
     "output_type": "stream",
     "text": [
      "625\n"
     ]
    }
   ],
   "source": [
    "largura = int(input('Digete a largura do aparmento'))\n",
    "comprimento = int(input('Digete comprimento do aparmento'))\n",
    "metros_quadrado = largura * comprimento\n",
    "print (metros_quadrado)"
   ]
  },
  {
   "cell_type": "markdown",
   "id": "2a285929",
   "metadata": {},
   "source": [
    "#### 8. Faça um Programa que pergunte quanto você ganha por hora e o número de horas trabalhadas no mês. Calcule e mostre o total do seu salário no referido mês."
   ]
  },
  {
   "cell_type": "code",
   "execution_count": 8,
   "id": "359e2232",
   "metadata": {},
   "outputs": [
    {
     "name": "stdout",
     "output_type": "stream",
     "text": [
      "625.0\n"
     ]
    }
   ],
   "source": [
    "horas_trabalho = float(input('Digite o quanto você por hora'))\n",
    "horas_mes = float(input('Digite a quantidade de horas qeu vc trabalhou esse mês'))\n",
    "horas_a_receber = horas_trabalho * horas_mes\n",
    "\n",
    "print (horas_a_receber)"
   ]
  },
  {
   "cell_type": "markdown",
   "id": "7e2d4615",
   "metadata": {},
   "source": [
    "#### 9. Vamos criar um conversor de temperatura. Faça um Programa que peça a temperatura em graus Fahrenheit, transforme e mostre a temperatura em graus Celsius.\n",
    "$C = \\frac{5}{9}(F-32)$"
   ]
  },
  {
   "cell_type": "code",
   "execution_count": 16,
   "id": "82daf9fd",
   "metadata": {},
   "outputs": [
    {
     "name": "stdout",
     "output_type": "stream",
     "text": [
      "A tempratura em Celsus é de 35.0 °F\n"
     ]
    }
   ],
   "source": [
    "temperatura_f = float(input('Digite a temperatura em Fahrenheit: '))\n",
    "temperatura_c = (5/9) * (temperatura_f - 32)\n",
    "print('A tempratura em Celsus é de {} °C' .format(temperatura_c))"
   ]
  },
  {
   "cell_type": "markdown",
   "id": "20708b1c",
   "metadata": {},
   "source": [
    "#### 10. Faça um Programa que peça a temperatura em graus Celsius, transforme e mostre em graus Fahrenheit.\n",
    "$F = \\frac{9}{5}C + 32$"
   ]
  },
  {
   "cell_type": "code",
   "execution_count": 17,
   "id": "c73cfb38",
   "metadata": {},
   "outputs": [
    {
     "name": "stdout",
     "output_type": "stream",
     "text": [
      "A temperatura em Fahrenheit é de 129.6 °F\n"
     ]
    }
   ],
   "source": [
    "temperatura_c = float(input('Digite a temperatua em Celsus: '))\n",
    "temperatura_f = (9/5) * (temperatura_c + 32)\n",
    "print('A temperatura em Fahrenheit é de {} °F' .format(temperatura_f))"
   ]
  },
  {
   "cell_type": "markdown",
   "id": "b263a9dc",
   "metadata": {},
   "source": [
    "#### 12. Tendo como dados de entrada a altura (h) de uma pessoa, construa um algoritmo que calcule seu peso ideal, usando a seguinte fórmula:\n",
    "$P = 72,7h - 58$\n",
    "\n",
    "Lembrando que \"algoritmo\" nada mais é do que um programa, como todos os outros que você vem fazendo"
   ]
  },
  {
   "cell_type": "code",
   "execution_count": 23,
   "id": "9a9b8dca",
   "metadata": {},
   "outputs": [
    {
     "name": "stdout",
     "output_type": "stream",
     "text": [
      "O seu peso ideal é de 69.22500000000001 kgs\n"
     ]
    }
   ],
   "source": [
    "altura =  float(input('Qual é a sua altura?'))\n",
    "peso_ideal = 72.7 * altura - 58\n",
    "\n",
    "print('O seu peso ideal é de {} kgs' .format(peso_ideal))"
   ]
  },
  {
   "cell_type": "markdown",
   "id": "13bb40d7",
   "metadata": {},
   "source": [
    "#### 13. Tendo como dado de entrada a altura (h) de uma pessoa, construa um algoritmo que calcule seu peso ideal, utilizando as seguintes fórmulas:\n",
    "##### a. Para homens: $P = 72,7h - 58$\n",
    "##### b. Para mulheres: $P = 62,1h - 44,7$"
   ]
  },
  {
   "cell_type": "code",
   "execution_count": 25,
   "id": "bf82dc8c",
   "metadata": {},
   "outputs": [
    {
     "name": "stdout",
     "output_type": "stream",
     "text": [
      "Para um homem com a altura de 175.0 o peso ideal é de 12664.5.\n",
      "Para uma mulher com a  altura de 165.0 o peso ideal é de 10201.8.\n"
     ]
    }
   ],
   "source": [
    "altura_h = float(input('Digite a altura do homem: '))\n",
    "altura_m = float(input('Dgite a altura da mulher: '))\n",
    "peso_ideal_h = 72.7 * altura_h - 58\n",
    "peso_ideal_m = 62.1 * altura_m - 44.7\n",
    "\n",
    "print('Para um homem com a altura de {} o peso ideal é de {}.' .format(altura_h, peso_ideal_h))\n",
    "print('Para uma mulher com a  altura de {} o peso ideal é de {}.' .format(altura_m, peso_ideal_m))"
   ]
  },
  {
   "cell_type": "markdown",
   "id": "f208ef89",
   "metadata": {},
   "source": [
    "#### 15. Faça um Programa que pergunte quanto você ganha por hora e o número de horas trabalhadas no mês."
   ]
  },
  {
   "cell_type": "code",
   "execution_count": 36,
   "id": "2d5b23e0",
   "metadata": {},
   "outputs": [],
   "source": [
    "salario_hora = float(input('Digite o seu salário: '))\n",
    "horas_trabalhadas = float(input('Digte quantas horas você trabalhou: '))"
   ]
  },
  {
   "cell_type": "markdown",
   "id": "607dee3c",
   "metadata": {},
   "source": [
    "#####  Calcule o salário bruto (horas * salario por hora)"
   ]
  },
  {
   "cell_type": "code",
   "execution_count": 37,
   "id": "7f80ccbb",
   "metadata": {},
   "outputs": [
    {
     "name": "stdout",
     "output_type": "stream",
     "text": [
      "O seu salario bruto é de 2640.0 R$\n"
     ]
    }
   ],
   "source": [
    "salario_bruto = salario_hora * horas_trabalhadas\n",
    "print('O seu salario bruto é de {} R$' . format(salario_bruto))"
   ]
  },
  {
   "cell_type": "markdown",
   "id": "2ed93cb0",
   "metadata": {},
   "source": [
    "##### Calcule o desconto do IR (11% do salário bruto)"
   ]
  },
  {
   "cell_type": "code",
   "execution_count": 38,
   "id": "3363e22f",
   "metadata": {},
   "outputs": [
    {
     "name": "stdout",
     "output_type": "stream",
     "text": [
      "O valor do IR descontado é de 290.4 R$\n"
     ]
    }
   ],
   "source": [
    "ir = 0.11 * salario_bruto\n",
    "print('O valor do IR descontado é de {} R$'.format(ir))"
   ]
  },
  {
   "cell_type": "markdown",
   "id": "0994b2c0",
   "metadata": {},
   "source": [
    "##### Calcule o desconto do INSS (8% do salário bruto)"
   ]
  },
  {
   "cell_type": "code",
   "execution_count": 39,
   "id": "748c6088",
   "metadata": {},
   "outputs": [
    {
     "name": "stdout",
     "output_type": "stream",
     "text": [
      "O valor do INSS descontado é de 211.20000000000002 R$\n"
     ]
    }
   ],
   "source": [
    "inss = 0.08 * salario_bruto\n",
    "print('O valor do INSS descontado é de {} R$' .format(inss))"
   ]
  },
  {
   "cell_type": "markdown",
   "id": "06e8dae4",
   "metadata": {},
   "source": [
    "##### Calcule o desconto do sindicato (5% do salário bruto)"
   ]
  },
  {
   "cell_type": "code",
   "execution_count": 40,
   "id": "21b95b15",
   "metadata": {
    "scrolled": true
   },
   "outputs": [
    {
     "name": "stdout",
     "output_type": "stream",
     "text": [
      "O valor do imposto do sindicato descontado é de 132.0 R$\n"
     ]
    }
   ],
   "source": [
    "sindicato = 0.05 * salario_bruto\n",
    "print('O valor do imposto do sindicato descontado é de {} R$' .format(sindicato))"
   ]
  },
  {
   "cell_type": "markdown",
   "id": "bb14ce36",
   "metadata": {},
   "source": [
    "##### Calcule o salário líquido (salário bruto - descontos)"
   ]
  },
  {
   "cell_type": "code",
   "execution_count": 41,
   "id": "56317086",
   "metadata": {},
   "outputs": [
    {
     "name": "stdout",
     "output_type": "stream",
     "text": [
      "O slario bruto é de 2006.4 R$\n"
     ]
    }
   ],
   "source": [
    "salario_liquido = salario_bruto - ir - inss - sindicato\n",
    "print('O salário bruto é de {} R$' .format(salario_liquido))"
   ]
  },
  {
   "cell_type": "markdown",
   "id": "cfbfcc87",
   "metadata": {},
   "source": [
    "#### 16. Faça um programa para uma loja de tintas. O programa deverá pedir o tamanho em metros quadrados da área a ser pintada. Considere que a cobertura da tinta é de 1 litro para cada 3 metros quadrados e que a tinta é vendida em latas de 18 litros, que custam R\\$ 80,00. Informe ao usuário a quantidades de latas de tinta a serem compradas e o preço total. (para simplificação nesse momento, não se preocupe em arredondar a quantidade de latas a serem compradas - vamos trabalhar isso em breve)"
   ]
  },
  {
   "cell_type": "code",
   "execution_count": 3,
   "id": "fb6a083b",
   "metadata": {},
   "outputs": [
    {
     "name": "stdout",
     "output_type": "stream",
     "text": [
      "Você deverá comprar 0.1851851851851852 latas de tinta. Ficou o total de 14.814814814814817 R$\n"
     ]
    }
   ],
   "source": [
    "area = float(input('Informe a área em mts quadrado que vai ser pintada'))\n",
    "litros_tinta = area/3\n",
    "latas = litros_tinta / 18\n",
    "preco = latas * 80\n",
    "\n",
    "print('Você deverá comprar {} latas de tinta. Ficou o total de {} R$' .format(latas, preco))"
   ]
  },
  {
   "cell_type": "markdown",
   "id": "d6503c92",
   "metadata": {},
   "source": [
    "#### 18. Faça um programa que peça o tamanho de um arquivo para download (em MB) e a velocidade de um link de Internet (em Mbps), calcule e informe o tempo aproximado de download do arquivo usando este link (em minutos).\n",
    "\n",
    "Detalhe: MB significa megabyte, Mb (com b minúsculo) significa megabit. Um megabit é 1/8 de um megabyte. "
   ]
  },
  {
   "cell_type": "code",
   "execution_count": null,
   "id": "0563aa62",
   "metadata": {},
   "outputs": [],
   "source": []
  }
 ],
 "metadata": {
  "kernelspec": {
   "display_name": "Python 3",
   "language": "python",
   "name": "python3"
  },
  "language_info": {
   "codemirror_mode": {
    "name": "ipython",
    "version": 3
   },
   "file_extension": ".py",
   "mimetype": "text/x-python",
   "name": "python",
   "nbconvert_exporter": "python",
   "pygments_lexer": "ipython3",
   "version": "3.11.1"
  },
  "vscode": {
   "interpreter": {
    "hash": "1bdc4d4e3c8d5d24903baf837f35a68267468051fc229167f6381e70d8fe2045"
   }
  }
 },
 "nbformat": 4,
 "nbformat_minor": 5
}
