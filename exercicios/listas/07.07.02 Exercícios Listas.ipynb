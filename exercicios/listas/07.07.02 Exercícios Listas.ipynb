{
 "cells": [
  {
   "cell_type": "markdown",
   "metadata": {},
   "source": [
    "# Exercícios\n",
    "\n",
    "## 1. Faturamento do Melhor e do Pior Mês do Ano\n",
    "\n",
    "Qual foi o valor de vendas do melhor mês do Ano?\n",
    "E valor do pior mês do ano?"
   ]
  },
  {
   "cell_type": "code",
   "execution_count": 17,
   "metadata": {},
   "outputs": [
    {
     "name": "stdout",
     "output_type": "stream",
     "text": [
      "O mês de maior faturamento foi o mês de nov e teve faturamento no valor de R$49051 .\n",
      "O mês de menor faturamento foi o mês de dez e teve faturamento no valor de R$9650 .\n"
     ]
    }
   ],
   "source": [
    "#Contrua cada passo testando passo a passo\n",
    "meses = ['jan', 'fev', 'mar', 'abr', 'mai', 'jun', 'jul', 'ago', 'set', 'out', 'nov', 'dez']\n",
    "vendas_1sem = [25000, 29000, 22200, 17750, 15870, 19900]\n",
    "vendas_2sem = [19850, 20120, 17540, 15555, 49051, 9650]\n",
    "\n",
    "#Primeiro, juntar lista de vendas semestrais.\n",
    "vendas_ano = vendas_1sem + vendas_2sem\n",
    "#Descobrir valor do maor faturamento e do menor faturamento e descobrir o índice.\n",
    "maior = max(vendas_ano)\n",
    "imaior = vendas_ano.index(maior)\n",
    "print('O mês de maior faturamento foi o mês de {} e teve faturamento no valor de R$ {} .'.format(meses[imaior], vendas_ano[imaior]))\n",
    "\n",
    "menor = min(vendas_ano)\n",
    "imenor = vendas_ano.index(menor)\n",
    "print('O mês de menor faturamento foi o mês de {} e teve faturamento no valor de R$ {} .'.format(meses[imenor], vendas_ano[imenor]))\n"
   ]
  },
  {
   "cell_type": "markdown",
   "metadata": {},
   "source": [
    "## 2. Continuação\n",
    "\n",
    "Agora relacione as duas listas para printar 'O melhor mês do ano foi {} com {} vendas' e o mesmo para o pior mês do ano.\n",
    "\n",
    "Calcule também o faturamento total do Ano e quanto que o melhor mês representou do faturamento total.\n",
    "\n",
    "Obs: Para o faturamento total, pode usar a função sum(lista) que soma todos os itens de uma lista"
   ]
  },
  {
   "cell_type": "code",
   "execution_count": null,
   "metadata": {},
   "outputs": [],
   "source": []
  },
  {
   "cell_type": "markdown",
   "metadata": {},
   "source": [
    "## 3. Crie uma lista com o top 3 valores de vendas do ano (sem fazer \"no olho\")\n",
    "\n",
    "Dica: o método remove retira um item da lista."
   ]
  },
  {
   "cell_type": "code",
   "execution_count": 2,
   "metadata": {},
   "outputs": [],
   "source": [
    "top3 = []"
   ]
  }
 ],
 "metadata": {
  "kernelspec": {
   "display_name": "Python 3",
   "language": "python",
   "name": "python3"
  },
  "language_info": {
   "codemirror_mode": {
    "name": "ipython",
    "version": 3
   },
   "file_extension": ".py",
   "mimetype": "text/x-python",
   "name": "python",
   "nbconvert_exporter": "python",
   "pygments_lexer": "ipython3",
   "version": "3.11.1"
  },
  "vscode": {
   "interpreter": {
    "hash": "1bdc4d4e3c8d5d24903baf837f35a68267468051fc229167f6381e70d8fe2045"
   }
  }
 },
 "nbformat": 4,
 "nbformat_minor": 4
}
