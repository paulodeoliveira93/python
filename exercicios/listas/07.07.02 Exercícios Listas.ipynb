{
 "cells": [
  {
   "cell_type": "markdown",
   "metadata": {},
   "source": [
    "# Exercícios\n",
    "\n",
    "## 1. Faturamento do Melhor e do Pior Mês do Ano\n",
    "\n",
    "Qual foi o valor de vendas do melhor mês do Ano?\n",
    "E valor do pior mês do ano?"
   ]
  },
  {
   "cell_type": "code",
   "execution_count": 32,
   "metadata": {},
   "outputs": [],
   "source": [
    "#Contrua cada passo testando passo a passo\n",
    "meses = ['jan', 'fev', 'mar', 'abr', 'mai', 'jun', 'jul', 'ago', 'set', 'out', 'nov', 'dez']\n",
    "vendas_1sem = [25000, 29000, 22200, 17750, 15870, 19900]\n",
    "vendas_2sem = [19850, 20120, 17540, 15555, 49051, 9650]\n",
    "\n",
    "#Primeiro, juntar lista de vendas semestrais.\n",
    "vendas_ano = vendas_1sem + vendas_2sem\n",
    "#Descobrir valor do maor faturamento e do menor faturamento e descobrir o índice.\n",
    "maior = max(vendas_ano)\n",
    "imaior = vendas_ano.index(maior)\n",
    "\n",
    "menor = min(vendas_ano)\n",
    "imenor = vendas_ano.index(menor)\n",
    "\n"
   ]
  },
  {
   "cell_type": "markdown",
   "metadata": {},
   "source": [
    "## 2. Continuação\n",
    "\n",
    "Agora relacione as duas listas para printar 'O melhor mês do ano foi {} com {} vendas' e o mesmo para o pior mês do ano.\n",
    "\n",
    "Calcule também o faturamento total do Ano e quanto que o melhor mês representou do faturamento total.\n",
    "\n",
    "Obs: Para o faturamento total, pode usar a função sum(lista) que soma todos os itens de uma lista"
   ]
  },
  {
   "cell_type": "code",
   "execution_count": 33,
   "metadata": {},
   "outputs": [
    {
     "name": "stdout",
     "output_type": "stream",
     "text": [
      "O mês de maior faturamento foi o mês de nov e teve faturamento no valor de R$ 49,051.00 .\n",
      "O mês de menor faturamento foi o mês de dez e teve faturamento no valor de R$ 9,650.00 .\n",
      "O mês faturamento anual foi o mês de R$ 261,486.00 .\n",
      "O percentual do melhor mês é de 18.76% e foi o mês de nov.\n"
     ]
    }
   ],
   "source": [
    "print('O mês de maior faturamento foi o mês de {} e teve faturamento no valor de R$ {:,.2f} .'.format(meses[imaior], vendas_ano[imaior]))\n",
    "print('O mês de menor faturamento foi o mês de {} e teve faturamento no valor de R$ {:,.2f} .'.format(meses[imenor], vendas_ano[imenor]))\n",
    "valor_ano = sum(vendas_ano)\n",
    "perc_maior = maior / valor_ano\n",
    "print('O mês faturamento anual foi o mês de R$ {:,.2f} .'.format(valor_ano))\n",
    "print('O percentual do melhor mês é de {:.2%} e foi o mês de {}.'.format(perc_maior, meses[imaior]))\n",
    "\n"
   ]
  },
  {
   "cell_type": "markdown",
   "metadata": {},
   "source": [
    "## 3. Crie uma lista com o top 3 valores de vendas do ano (sem fazer \"no olho\")\n",
    "\n",
    "Dica: o método remove retira um item da lista."
   ]
  },
  {
   "cell_type": "code",
   "execution_count": 38,
   "metadata": {},
   "outputs": [
    {
     "name": "stdout",
     "output_type": "stream",
     "text": [
      "[17750, 15870, 19900, 19850, 20120, 17540, 15555, 9650]\n",
      "[20120]\n",
      "[17750, 15870, 19900, 19850, 17540, 15555, 9650]\n",
      "[20120, 19900, 19850]\n"
     ]
    }
   ],
   "source": [
    "top3 = []\n",
    "print(vendas_ano)\n",
    "#Nesse caso, irei que acrescentar o maior valor no top3 e retirar o maior valor da lista venda_ano, fazendo que o segundo valor seja o mair valor da lista vendas_ano e acrescentar o maior valor no top3\n",
    "\n",
    "top3.append(maior)\n",
    "vendas_ano.remove(maior)\n",
    "print(top3)\n",
    "print(vendas_ano)\n",
    "\n",
    "maior = max(vendas_ano)\n",
    "top3.append(maior)\n",
    "vendas_ano.remove(maior)\n",
    "\n",
    "maior = max(vendas_ano)\n",
    "top3.append(maior)\n",
    "print(top3)"
   ]
  }
 ],
 "metadata": {
  "kernelspec": {
   "display_name": "Python 3",
   "language": "python",
   "name": "python3"
  },
  "language_info": {
   "codemirror_mode": {
    "name": "ipython",
    "version": 3
   },
   "file_extension": ".py",
   "mimetype": "text/x-python",
   "name": "python",
   "nbconvert_exporter": "python",
   "pygments_lexer": "ipython3",
   "version": "3.11.1"
  },
  "vscode": {
   "interpreter": {
    "hash": "1bdc4d4e3c8d5d24903baf837f35a68267468051fc229167f6381e70d8fe2045"
   }
  }
 },
 "nbformat": 4,
 "nbformat_minor": 4
}
